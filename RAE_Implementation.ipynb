{
  "nbformat": 4,
  "nbformat_minor": 0,
  "metadata": {
    "colab": {
      "provenance": [],
      "authorship_tag": "ABX9TyNLO5kaT9+RIU6bvBYp3M94",
      "include_colab_link": true
    },
    "kernelspec": {
      "name": "python3",
      "display_name": "Python 3"
    },
    "language_info": {
      "name": "python"
    }
  },
  "cells": [
    {
      "cell_type": "markdown",
      "metadata": {
        "id": "view-in-github",
        "colab_type": "text"
      },
      "source": [
        "<a href=\"https://colab.research.google.com/github/Tekleab15/Cryptography-and-Network-security/blob/main/RAE_Implementation.ipynb\" target=\"_parent\"><img src=\"https://colab.research.google.com/assets/colab-badge.svg\" alt=\"Open In Colab\"/></a>"
      ]
    },
    {
      "cell_type": "markdown",
      "source": [
        "# Regularized Autoencoder Implementation\n",
        "This notebook demonstrates the implementation of a Regularized Autoencoder (RAE) using backpropagation, inspired by the methodologies described in \"The Neural Coding Framework for Learning Generative Models\".\n",
        "\n"
      ],
      "metadata": {
        "id": "_oY1vorCOzzk"
      }
    },
    {
      "cell_type": "markdown",
      "source": [],
      "metadata": {
        "id": "i7SpjUdCOk1G"
      }
    },
    {
      "cell_type": "markdown",
      "source": [
        "**Dataset Loading and Preprocessing: **all the four datasets used in the paper (MNIST, KMNIST, FMNIST, CalTech101)"
      ],
      "metadata": {
        "id": "3RX8DF2fPCXn"
      }
    },
    {
      "cell_type": "markdown",
      "source": [
        "# 1. Loading MNIST dataset\n"
      ],
      "metadata": {
        "id": "mY-w9e6uPYk1"
      }
    },
    {
      "cell_type": "code",
      "source": [
        "# loading mnist dataset from the open online keras datasets\n",
        "from tensorflow.keras.datasets import mnist\n",
        "\n",
        "# load the dataset as it's splitted into a training and testing sets\n",
        "(x_train_mnist, y_train_mnist), (x_test_mnist, y_test_mnist) = mnist.load_data()\n",
        "# Normalizing(setting between 0 and 1) and reshape the datasets loaded\n",
        "x_train_mnist = x_train_mnist.astype('float32') / 255.\n",
        "x_test_mnist = x_test_mnist.astype('float32') / 255.\n",
        "x_train_mnist = x_train_mnist.reshape((x_train_mnist.shape[0], -1))\n",
        "x_test_mnist = x_test_mnist.reshape((x_test_mnist.shape[0], -1))\n",
        "print(\"Dataset loaded successfully!\")"
      ],
      "metadata": {
        "colab": {
          "base_uri": "https://localhost:8080/"
        },
        "id": "_9Q2LccoO8fV",
        "outputId": "a461088d-0df8-4379-af0c-b68196172ad8"
      },
      "execution_count": 16,
      "outputs": [
        {
          "output_type": "stream",
          "name": "stdout",
          "text": [
            "Dataset loaded successfully!\n"
          ]
        }
      ]
    },
    {
      "cell_type": "markdown",
      "source": [
        "# 2. Loading KMNIST dataset"
      ],
      "metadata": {
        "id": "woZQS6rUV42N"
      }
    },
    {
      "cell_type": "code",
      "source": [
        "# Unlike MNIST datasets KMNIST datasets should be loaded in a little bit different way\n",
        "import tensorflow_datasets as tfds\n",
        "import numpy as np\n",
        "(x_train_kmnist, y_test_kmnist), ds_info = tfds.load(\n",
        "    'kmnist',\n",
        "    split=['train', 'test'],\n",
        "    shuffle_files=True,\n",
        "    as_supervised=True,\n",
        "    with_info=True\n",
        ")\n",
        "def convert_to_numpy(ds):\n",
        "    images, labels = [], []\n",
        "    for img, lbl in tfds.as_numpy(ds):\n",
        "        images.append(img)\n",
        "        labels.append(lbl)\n",
        "    return np.array(images), np.array(labels)\n",
        "\n",
        "# Convert datasets to numpy arrays\n",
        "x_train_kmnist, y_train_kmnist = convert_to_numpy(x_train_kmnist)\n",
        "x_test_kmnist, y_test_kmnist = convert_to_numpy(y_test_kmnist)\n",
        "\n",
        "# Normalize and Reshape the images as we did for MNIST\n",
        "x_train_kmnist = x_train_kmnist.astype('float32') / 255.\n",
        "x_test_kmnist = x_test_kmnist.astype('float32') / 255.\n",
        "\n",
        "x_train_kmnist = x_train_kmnist.reshape((x_train_kmnist.shape[0], 28 * 28))\n",
        "x_test_kmnist = x_test_kmnist.reshape((x_test_kmnist.shape[0], 28 * 28))"
      ],
      "metadata": {
        "id": "hij_H2pWV1hp"
      },
      "execution_count": 21,
      "outputs": []
    },
    {
      "cell_type": "code",
      "source": [],
      "metadata": {
        "id": "xfA-9SLmYUTG"
      },
      "execution_count": 14,
      "outputs": []
    }
  ]
}